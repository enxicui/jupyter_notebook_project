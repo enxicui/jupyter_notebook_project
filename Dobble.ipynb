{
 "cells": [
  {
   "cell_type": "markdown",
   "metadata": {},
   "source": [
    "Put the emojis in the dictionary called imagedict"
   ]
  },
  {
   "cell_type": "code",
   "execution_count": null,
   "metadata": {},
   "outputs": [],
   "source": [
    "import emoji\n",
    "from random import choice\n",
    "imageDict = dict()\n",
    "fin = open('emoji_names.txt',\"r\")\n",
    "lines = fin.readlines()\n",
    "for i, el in enumerate(lines):\n",
    "    imageDict[i+1] = emoji.emojize(el.strip())"
   ]
  },
  {
   "cell_type": "markdown",
   "metadata": {},
   "source": [
    "Give a set called set, give a dictionary called adict, the keys and values into dictionary"
   ]
  },
  {
   "cell_type": "code",
   "execution_count": null,
   "metadata": {},
   "outputs": [],
   "source": [
    "nIm = 8\n",
    "n = nIm - 1\n",
    "r = range(n)\n",
    "rp1 = range(n+1)\n",
    "c = 0\n",
    "adict=dict()"
   ]
  },
  {
   "cell_type": "code",
   "execution_count": null,
   "metadata": {},
   "outputs": [],
   "source": [
    "# First  iu card\n",
    "c += 1\n",
    "a_set=set() #give a set\n",
    "for i in rp1:\n",
    "    i+=1\n",
    "    if i in imageDict:\n",
    "        a_set.add(imageDict[i])   #put the value into the set\n",
    "adict[c]=a_set #put the key and set(value) into the dictionary "
   ]
  },
  {
   "cell_type": "markdown",
   "metadata": {},
   "source": [
    "Put the cards of 2-7 into dictionary"
   ]
  },
  {
   "cell_type": "code",
   "execution_count": null,
   "metadata": {},
   "outputs": [],
   "source": [
    "#print the dictionary\n",
    "for j in r:\n",
    "    c = c+1\n",
    "    a_set=set()\n",
    "    a_set.add(imageDict[1])\n",
    "    for k in r:\n",
    "        result = n+2 + n*j +k\n",
    "        if result in imageDict:\n",
    "            a_set.add(imageDict[result])\n",
    "    adict[c]=a_set"
   ]
  },
  {
   "cell_type": "markdown",
   "metadata": {},
   "source": [
    "Put the last cards into dictionary"
   ]
  },
  {
   "cell_type": "code",
   "execution_count": null,
   "metadata": {},
   "outputs": [],
   "source": [
    "# n x n following cards\n",
    "for i in r:\n",
    "    for j in r:\n",
    "        c = c+1\n",
    "        a_set=set()\n",
    "        a_set.add(imageDict[i+2])\n",
    "        for k in r:\n",
    "            result2 = (n+1 +n*k + (i*k+j) % n)+1\n",
    "            if result2 in imageDict:\n",
    "                a_set.add(imageDict[result2])\n",
    "        adict[c]=a_set"
   ]
  },
  {
   "cell_type": "markdown",
   "metadata": {},
   "source": [
    "Check the validity, give a dictionary called myinter, i and j is every card, if i and j are not the same card, find the same value between them and put it into the dictionary, print the same value, return true. if the value not equal to 1, which means there are more than one or less than one same value between them, return false"
   ]
  },
  {
   "cell_type": "code",
   "execution_count": null,
   "metadata": {},
   "outputs": [],
   "source": [
    "def validitychecker(deck, **kwargs):\n",
    "    myInter = []\n",
    "    check = True\n",
    "    for i in range (1, len(deck)+1):\n",
    "        for j in range (1, len(deck)+1):\n",
    "            if i != j:\n",
    "                myInter.append(deck[i].intersection(deck[j]))\n",
    "                if \"verbose\" in kwargs:\n",
    "                        if kwargs[\"verbose\"] == \"True\":\n",
    "#                             print(i,j)\n",
    "                            print(myInter)\n",
    "                if len(myInter) != 1:\n",
    "                    check = False\n",
    "                myInter = []\n",
    "    return check  \n",
    "# validitychecker(adict, verbose = \"True\")"
   ]
  },
  {
   "cell_type": "markdown",
   "metadata": {},
   "source": [
    "Make the key in the card dictionary become a list and use pop to delete the keys that has be chosen, return the values of each cards"
   ]
  },
  {
   "cell_type": "code",
   "execution_count": null,
   "metadata": {},
   "outputs": [],
   "source": [
    "class DobbleCard:\n",
    "    def __init__(self):\n",
    "        self.card_key=choice(list(adict.keys())) #choose key\n",
    "        self.card_value = adict[self.card_key]\n",
    "        adict.pop(self.card_key)   #delet the card that has been used\n",
    "    def choose(self):\n",
    "        return self.card_value"
   ]
  },
  {
   "cell_type": "markdown",
   "metadata": {},
   "source": [
    "Add_card is put the card into a list and output each cards\n",
    "Play_card is show the the cards, in this stage, we should show the card and the index is 0 and 1\n",
    "Whowin is calculate the point\n",
    "Remove_card is delete every game that the index is0"
   ]
  },
  {
   "cell_type": "code",
   "execution_count": null,
   "metadata": {},
   "outputs": [],
   "source": [
    "class DobbleDeck:\n",
    "    def __init__(self):\n",
    "        self.myList = []\n",
    "        self.ask = 0\n",
    "        self.scoreA = 0\n",
    "        self.scoreB = 0\n",
    "    def add_card(self):\n",
    "        try:\n",
    "            self.ask = int(input(\"How many cards(<56)\"))\n",
    "        except ValueError:\n",
    "            self.add_card()\n",
    "        print(\"If you want to record a draw type 'd' or 'D'\")\n",
    "        while self.ask < 1 or self.ask > 57:\n",
    "            print(\"Error!Please enter a number < 56\")\n",
    "            self.ask = int(input(\"How many cards(<56)\"))  \n",
    "        for i in range(0, self.ask+1):\n",
    "            myCard = DobbleCard()\n",
    "            self.myList.append(myCard)\n",
    "    def play_card(self): \n",
    "        img_list=list(self.myList[0].choose())\n",
    "        for i in img_list[0:3]:\n",
    "            print(i,end=\"\")\n",
    "        print(\"           \",end=\"\")\n",
    "        img_list=list(self.myList[1].choose())\n",
    "        for j in img_list[0:3]:\n",
    "            print(j,end=\"\")\n",
    "        print()\n",
    "        img_list=list(self.myList[0].choose())\n",
    "        for i in img_list[3:6]:\n",
    "            print(i,end=\"\")\n",
    "        print(\"           \",end=\"\")\n",
    "        img_list=list(self.myList[1].choose())\n",
    "        for j in img_list[3:6]:\n",
    "            print(j,end=\"\")\n",
    "        print()   \n",
    "        img_list=list(self.myList[0].choose())\n",
    "        for i in img_list[6:8]:\n",
    "            print(i,end=\"\")\n",
    "        print(\"             \",end=\"\")\n",
    "        img_list=list(self.myList[1].choose())\n",
    "        for j in img_list[6:8]:\n",
    "            print(j,end=\"\")\n",
    "\n",
    "    def whowin(self):\n",
    "        print()\n",
    "        win = input(\"Who wins (A or B)? \")\n",
    "        win=win.lower()\n",
    "        if win == \"a\":\n",
    "            self.scoreA += 1\n",
    "        elif win == \"b\":\n",
    "            self.scoreB += 1\n",
    "        elif win == \"d\":\n",
    "            pass       \n",
    "        else:\n",
    "            self.whowin()\n",
    "    def remove_card(self):\n",
    "        self.myList.pop(0)"
   ]
  },
  {
   "cell_type": "markdown",
   "metadata": {},
   "source": [
    "Give the game a while loop and call these methods"
   ]
  },
  {
   "cell_type": "code",
   "execution_count": null,
   "metadata": {},
   "outputs": [],
   "source": [
    "mydob = DobbleDeck()\n",
    "mydob.add_card()\n",
    "while len(mydob.myList) > 1:\n",
    "        mydob.play_card()\n",
    "        mydob.whowin()\n",
    "        mydob.remove_card()\n",
    "if len(mydob.myList)<2:\n",
    "        print(\"A:\", mydob.scoreA)\n",
    "        print(\"B:\", mydob.scoreB)"
   ]
  },
  {
   "cell_type": "code",
   "execution_count": null,
   "metadata": {},
   "outputs": [],
   "source": []
  },
  {
   "cell_type": "code",
   "execution_count": null,
   "metadata": {},
   "outputs": [],
   "source": []
  }
 ],
 "metadata": {
  "kernelspec": {
   "display_name": "Python 3",
   "language": "python",
   "name": "python3"
  },
  "language_info": {
   "codemirror_mode": {
    "name": "ipython",
    "version": 3
   },
   "file_extension": ".py",
   "mimetype": "text/x-python",
   "name": "python",
   "nbconvert_exporter": "python",
   "pygments_lexer": "ipython3",
   "version": "3.7.0"
  }
 },
 "nbformat": 4,
 "nbformat_minor": 2
}
