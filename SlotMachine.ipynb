{
 "cells": [
  {
   "cell_type": "markdown",
   "metadata": {},
   "source": [
    "import emoji, and import random choice"
   ]
  },
  {
   "cell_type": "code",
   "execution_count": 1,
   "metadata": {},
   "outputs": [],
   "source": [
    "import emoji\n",
    "from random import choice\n"
   ]
  },
  {
   "cell_type": "markdown",
   "metadata": {},
   "source": [
    "Purse class,  balance is a initializer, which value is 10, the credit method records the money you put in the game, and debit is the money you take out of the game, bet is the money you bet."
   ]
  },
  {
   "cell_type": "code",
   "execution_count": 2,
   "metadata": {},
   "outputs": [],
   "source": [
    "class Purse():\n",
    "    def __init__(self):\n",
    "        self.__balance = 10.00 \n",
    "    def credit(self, bet):\n",
    "        self.__balance += bet \n",
    "    def debit(self, bet):\n",
    "        self.__balance -= bet \n",
    "    def get_balance(self):\n",
    "        return self.__balance "
   ]
  },
  {
   "cell_type": "markdown",
   "metadata": {},
   "source": [
    "Define Class slot, r1,r2,r3 is three columns of showing slot,take_bet letting player input how much they bet\n",
    "pull_handle method is changing the emoji every time the player input a number \n",
    "show_Slot is showing the three emoji in slot\n",
    "score_slot is count the score, it has three situations, when Full house – all 3 columns contain the same value. Player wins an amount equal to the bet and this is added to their credit; Half house – 2 of the 3 columns contain the same value. Player wins half the amount bet; Empty house - all 3 columns contain different values. Player loses bet. \n"
   ]
  },
  {
   "cell_type": "code",
   "execution_count": 3,
   "metadata": {},
   "outputs": [],
   "source": [
    "class Slot():\n",
    "    def __init__(self, Purse):\n",
    "        self.purse = Purse\n",
    "        self.r1 = Column()\n",
    "        self.r2 = Column()\n",
    "        self.r3 = Column()\n",
    "        self.score = 0.00\n",
    "        self.my_bet = \"\"\n",
    "                \n",
    "    def take_bet(self):\n",
    "        self.my_bet = input(\"How much do you bet?\")\n",
    "        \n",
    "    def pull_handle(self):\n",
    "        self.r1.change_face()\n",
    "        self.r2.change_face()\n",
    "        self.r3.change_face()\n",
    "        \n",
    "    def show_slot(self):\n",
    "        print(self.r1.face, self.r2.face, self.r3.face)\n",
    "\n",
    "    def score_slot(self, bet):\n",
    "        if self.r1.get_face()==self.r2.get_face()==self.r3.get_face():\n",
    "            self.purse.credit(bet)#put money in\n",
    "            self.score = bet*2\n",
    "            print(\"Your Score %.2f\"% self.score, \"-\", \"You have %.2f\"% self.purse.get_balance())\n",
    "        elif self.r1.get_face()==self.r2.get_face() or self.r1.get_face()==self.r3.get_face()or self.r2.get_face()==self.r3.get_face():\n",
    "            self.purse.credit(bet/2)\n",
    "            self.score = bet*1.5\n",
    "            print(\"Your Score %.2f\" % self.score, \"-\", \"You have %.2f\"% self.purse.get_balance())\n",
    "        else:\n",
    "            self.purse.debit(bet)#take money out\n",
    "            self.score = 0 \n",
    "            print(\"Your Score %.2f\"% self.score, \"-\", \"You have %.2f\"% self.purse.get_balance())"
   ]
  },
  {
   "cell_type": "markdown",
   "metadata": {},
   "source": [
    "column class is let the emojis showing on the slot"
   ]
  },
  {
   "cell_type": "code",
   "execution_count": 4,
   "metadata": {},
   "outputs": [],
   "source": [
    "class Column(Slot):\n",
    "    def __init__(self):\n",
    "        self.face = \"\"\n",
    "        self.faces = [emoji.emojize(':red_apple:'),\n",
    "         emoji.emojize(':pear:'),\n",
    "         emoji.emojize(':tangerine:')\n",
    "        ]\n",
    "        \n",
    "    def change_face(self):\n",
    "        self.face = choice(self.faces)\n",
    "        \n",
    "    def get_face(self):\n",
    "        return self.face"
   ]
  },
  {
   "cell_type": "markdown",
   "metadata": {},
   "source": [
    "run_slot_machine definition is let this process run, mypurse and myslot is instances,if players input\"N\", the game would be finished, if player not input\"N\", let this input becomes a int, then continue these instances, if the money that the player want to bet is greater than get balnce, they cannot continue the game, if the bet is less than 2, the user should input again."
   ]
  },
  {
   "cell_type": "code",
   "execution_count": 5,
   "metadata": {},
   "outputs": [],
   "source": [
    "def run_slot_machine():\n",
    "    mypurse = Purse()\n",
    "    print('========== SLOT MACHINE =========')\n",
    "    print('Minimum bet is 2. Type \\'N\\' to exit.')\n",
    "    print('you have', mypurse.get_balance())\n",
    "    myslot = Slot(mypurse)\n",
    "    while True:\n",
    "        myslot.take_bet()#money you bet\n",
    "        bet = myslot.my_bet#money you bet\n",
    "        if bet == 'N':\n",
    "            print(\"Thank you for playing\")\n",
    "            \n",
    "            break\n",
    "        elif bet != 'N':\n",
    "            try:\n",
    "                bet = int(bet)\n",
    "         \n",
    "            except:\n",
    "                continue\n",
    "        if bet<2:\n",
    "                continue\n",
    "        if bet>mypurse.get_balance():\n",
    "            print(\"You don't have that much money!\")\n",
    "            continue\n",
    "        myslot.pull_handle()\n",
    "        myslot.show_slot()\n",
    "        myslot.score_slot(bet)\n",
    "        if mypurse.get_balance() < 2:\n",
    "            print(\"Thank you for playing.\")\n",
    "            print(\"You are leaving with %.2f \"% mypurse.get_balance())\n",
    "            break"
   ]
  },
  {
   "cell_type": "code",
   "execution_count": 6,
   "metadata": {},
   "outputs": [
    {
     "name": "stdout",
     "output_type": "stream",
     "text": [
      "========== SLOT MACHINE =========\n",
      "Minimum bet is 2. Type 'N' to exit.\n",
      "you have 10.0\n",
      "How much do you bet?7\n",
      "🍐 🍊 🍐\n",
      "Your Score 10.50 - You have 13.50\n",
      "How much do you bet?13\n",
      "🍐 🍐 🍎\n",
      "Your Score 19.50 - You have 20.00\n",
      "How much do you bet?20\n",
      "🍊 🍐 🍊\n",
      "Your Score 30.00 - You have 30.00\n",
      "How much do you bet?30\n",
      "🍐 🍐 🍎\n",
      "Your Score 45.00 - You have 45.00\n",
      "How much do you bet?45\n",
      "🍎 🍐 🍊\n",
      "Your Score 0.00 - You have 0.00\n",
      "Thank you for playing.\n",
      "You are leaving with 0.00 \n"
     ]
    }
   ],
   "source": [
    "run_slot_machine()"
   ]
  },
  {
   "cell_type": "code",
   "execution_count": null,
   "metadata": {},
   "outputs": [],
   "source": []
  }
 ],
 "metadata": {
  "kernelspec": {
   "display_name": "Python 3",
   "language": "python",
   "name": "python3"
  },
  "language_info": {
   "codemirror_mode": {
    "name": "ipython",
    "version": 3
   },
   "file_extension": ".py",
   "mimetype": "text/x-python",
   "name": "python",
   "nbconvert_exporter": "python",
   "pygments_lexer": "ipython3",
   "version": "3.7.0"
  }
 },
 "nbformat": 4,
 "nbformat_minor": 2
}
